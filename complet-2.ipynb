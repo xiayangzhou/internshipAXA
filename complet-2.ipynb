{
 "cells": [
  {
   "cell_type": "code",
   "execution_count": 2,
   "metadata": {
    "collapsed": false,
    "scrolled": true
   },
   "outputs": [
    {
     "name": "stdout",
     "output_type": "stream",
     "text": [
      "(675087, 67)\n"
     ]
    }
   ],
   "source": [
    "#import math\n",
    "import numpy as np\n",
    "import pandas as pd\n",
    "import matplotlib.pyplot as plt\n",
    "\n",
    "CIARD = pd.read_csv(\"/home/xzhou/Python/Data/EXTRACTION_CNT_EN_151200_0629.csv\",dtype=str,encoding='iso-8859-1',error_bad_lines=False)\n",
    "#CIARD1 = pd.read_csv(\"/home/xzhou/Python/Data/EXTRACTION_CNT_EN_160200_0503.csv\",dtype=str)\n",
    "\n",
    "print CIARD.shape"
   ]
  },
  {
   "cell_type": "code",
   "execution_count": 3,
   "metadata": {
    "collapsed": false
   },
   "outputs": [
    {
     "data": {
      "text/html": [
       "<div>\n",
       "<table border=\"1\" class=\"dataframe\">\n",
       "  <thead>\n",
       "    <tr style=\"text-align: right;\">\n",
       "      <th></th>\n",
       "      <th>tranche_eff</th>\n",
       "      <th>tranche_eff2</th>\n",
       "      <th>branche</th>\n",
       "      <th>NUMCNT</th>\n",
       "      <th>moisa</th>\n",
       "      <th>NMCLE001</th>\n",
       "      <th>NMCLE002</th>\n",
       "      <th>NMCLE003</th>\n",
       "      <th>DTFAN</th>\n",
       "      <th>DTFRS</th>\n",
       "      <th>...</th>\n",
       "      <th>TEFEN</th>\n",
       "      <th>efencent</th>\n",
       "      <th>ETATET</th>\n",
       "      <th>effectif</th>\n",
       "      <th>nb_an</th>\n",
       "      <th>nb_rs</th>\n",
       "      <th>nb_enc</th>\n",
       "      <th>copht_an</th>\n",
       "      <th>copht_rs</th>\n",
       "      <th>copht_enc</th>\n",
       "    </tr>\n",
       "  </thead>\n",
       "  <tbody>\n",
       "    <tr>\n",
       "      <th>0</th>\n",
       "      <td>2 - 50 à 4999</td>\n",
       "      <td>2 - 50 à 249</td>\n",
       "      <td>RI</td>\n",
       "      <td>0000004600183304</td>\n",
       "      <td>1</td>\n",
       "      <td>0</td>\n",
       "      <td>0</td>\n",
       "      <td>0</td>\n",
       "      <td>01/01/2010</td>\n",
       "      <td>NaN</td>\n",
       "      <td>...</td>\n",
       "      <td>21</td>\n",
       "      <td>50</td>\n",
       "      <td>A</td>\n",
       "      <td>50</td>\n",
       "      <td>0</td>\n",
       "      <td>0</td>\n",
       "      <td>1</td>\n",
       "      <td>0</td>\n",
       "      <td>0</td>\n",
       "      <td>53970.8</td>\n",
       "    </tr>\n",
       "    <tr>\n",
       "      <th>1</th>\n",
       "      <td>2 - 50 à 4999</td>\n",
       "      <td>2 - 50 à 249</td>\n",
       "      <td>RC</td>\n",
       "      <td>0000005353981304</td>\n",
       "      <td>2</td>\n",
       "      <td>0</td>\n",
       "      <td>0</td>\n",
       "      <td>0</td>\n",
       "      <td>14/02/2012</td>\n",
       "      <td>NaN</td>\n",
       "      <td>...</td>\n",
       "      <td>22</td>\n",
       "      <td>1</td>\n",
       "      <td>A</td>\n",
       "      <td>100</td>\n",
       "      <td>0</td>\n",
       "      <td>0</td>\n",
       "      <td>1</td>\n",
       "      <td>0</td>\n",
       "      <td>0</td>\n",
       "      <td>4858.88</td>\n",
       "    </tr>\n",
       "    <tr>\n",
       "      <th>2</th>\n",
       "      <td>2 - 50 à 4999</td>\n",
       "      <td>2 - 50 à 249</td>\n",
       "      <td>RC</td>\n",
       "      <td>0020541301678087</td>\n",
       "      <td>2</td>\n",
       "      <td>0</td>\n",
       "      <td>0</td>\n",
       "      <td>0</td>\n",
       "      <td>01/01/2001</td>\n",
       "      <td>NaN</td>\n",
       "      <td>...</td>\n",
       "      <td>22</td>\n",
       "      <td>1</td>\n",
       "      <td>A</td>\n",
       "      <td>100</td>\n",
       "      <td>0</td>\n",
       "      <td>0</td>\n",
       "      <td>1</td>\n",
       "      <td>0</td>\n",
       "      <td>0</td>\n",
       "      <td>9436.7</td>\n",
       "    </tr>\n",
       "    <tr>\n",
       "      <th>3</th>\n",
       "      <td>1 - 0 à 49</td>\n",
       "      <td>1 - 0 à 49</td>\n",
       "      <td>AUTO_PP</td>\n",
       "      <td>0000002674388204</td>\n",
       "      <td>1</td>\n",
       "      <td>0</td>\n",
       "      <td>0</td>\n",
       "      <td>0</td>\n",
       "      <td>01/01/2005</td>\n",
       "      <td>18/01/2016</td>\n",
       "      <td>...</td>\n",
       "      <td>11</td>\n",
       "      <td>10</td>\n",
       "      <td>A</td>\n",
       "      <td>10</td>\n",
       "      <td>0</td>\n",
       "      <td>0</td>\n",
       "      <td>1</td>\n",
       "      <td>0</td>\n",
       "      <td>0</td>\n",
       "      <td>927.7</td>\n",
       "    </tr>\n",
       "    <tr>\n",
       "      <th>4</th>\n",
       "      <td>1 - 0 à 49</td>\n",
       "      <td>1 - 0 à 49</td>\n",
       "      <td>AUTOE</td>\n",
       "      <td>0000005735096304</td>\n",
       "      <td>1</td>\n",
       "      <td>0</td>\n",
       "      <td>0</td>\n",
       "      <td>0</td>\n",
       "      <td>01/01/2013</td>\n",
       "      <td>NaN</td>\n",
       "      <td>...</td>\n",
       "      <td>11</td>\n",
       "      <td>10</td>\n",
       "      <td>A</td>\n",
       "      <td>10</td>\n",
       "      <td>0</td>\n",
       "      <td>0</td>\n",
       "      <td>1</td>\n",
       "      <td>0</td>\n",
       "      <td>0</td>\n",
       "      <td>8326.82</td>\n",
       "    </tr>\n",
       "  </tbody>\n",
       "</table>\n",
       "<p>5 rows × 67 columns</p>\n",
       "</div>"
      ],
      "text/plain": [
       "     tranche_eff  tranche_eff2  branche            NUMCNT moisa NMCLE001  \\\n",
       "0  2 - 50 à 4999  2 - 50 à 249       RI  0000004600183304     1        0   \n",
       "1  2 - 50 à 4999  2 - 50 à 249       RC  0000005353981304     2        0   \n",
       "2  2 - 50 à 4999  2 - 50 à 249       RC  0020541301678087     2        0   \n",
       "3     1 - 0 à 49    1 - 0 à 49  AUTO_PP  0000002674388204     1        0   \n",
       "4     1 - 0 à 49    1 - 0 à 49    AUTOE  0000005735096304     1        0   \n",
       "\n",
       "  NMCLE002 NMCLE003       DTFAN       DTFRS    ...    TEFEN efencent ETATET  \\\n",
       "0        0        0  01/01/2010         NaN    ...       21       50      A   \n",
       "1        0        0  14/02/2012         NaN    ...       22        1      A   \n",
       "2        0        0  01/01/2001         NaN    ...       22        1      A   \n",
       "3        0        0  01/01/2005  18/01/2016    ...       11       10      A   \n",
       "4        0        0  01/01/2013         NaN    ...       11       10      A   \n",
       "\n",
       "  effectif nb_an nb_rs nb_enc copht_an copht_rs copht_enc  \n",
       "0       50     0     0      1        0        0   53970.8  \n",
       "1      100     0     0      1        0        0   4858.88  \n",
       "2      100     0     0      1        0        0    9436.7  \n",
       "3       10     0     0      1        0        0     927.7  \n",
       "4       10     0     0      1        0        0   8326.82  \n",
       "\n",
       "[5 rows x 67 columns]"
      ]
     },
     "execution_count": 3,
     "metadata": {},
     "output_type": "execute_result"
    }
   ],
   "source": [
    "CIARD.head()"
   ]
  },
  {
   "cell_type": "code",
   "execution_count": 60,
   "metadata": {
    "collapsed": false
   },
   "outputs": [
    {
     "data": {
      "text/plain": [
       "(28708, 67)"
      ]
     },
     "execution_count": 60,
     "metadata": {},
     "output_type": "execute_result"
    }
   ],
   "source": [
    " CIARD[ (CIARD['branche'] == 'CHANT +').astype(bool) &(CIARD['MARCHE'] =='EN').astype(bool)].shape"
   ]
  },
  {
   "cell_type": "code",
   "execution_count": 61,
   "metadata": {
    "collapsed": false
   },
   "outputs": [
    {
     "data": {
      "text/plain": [
       "{nan,\n",
       " u'AUTOE',\n",
       " u'AUTO_PP',\n",
       " u'CHANT',\n",
       " u'CHANT +',\n",
       " u'COL_LOC',\n",
       " u'CONST',\n",
       " u'IMM_EN',\n",
       " u'IMM_PP',\n",
       " u'MRP_EN',\n",
       " u'MRP_PP',\n",
       " u'MULTI',\n",
       " u'RC',\n",
       " u'RC_PP',\n",
       " u'RI',\n",
       " u'RS',\n",
       " u'RS_PP',\n",
       " u'RT',\n",
       " u'TRANSP'}"
      ]
     },
     "execution_count": 61,
     "metadata": {},
     "output_type": "execute_result"
    }
   ],
   "source": [
    "set(CIARD['branche'])"
   ]
  },
  {
   "cell_type": "code",
   "execution_count": null,
   "metadata": {
    "collapsed": true
   },
   "outputs": [],
   "source": []
  },
  {
   "cell_type": "code",
   "execution_count": 62,
   "metadata": {
    "collapsed": false
   },
   "outputs": [
    {
     "data": {
      "text/plain": [
       "0"
      ]
     },
     "execution_count": 62,
     "metadata": {},
     "output_type": "execute_result"
    }
   ],
   "source": [
    "np.sum(CIARD['siret_final'].isnull())"
   ]
  },
  {
   "cell_type": "code",
   "execution_count": 63,
   "metadata": {
    "collapsed": false
   },
   "outputs": [],
   "source": [
    "## a EXECUTER SEULEMENT 1 FOIS\n",
    "# del CIARD['source']"
   ]
  },
  {
   "cell_type": "code",
   "execution_count": 64,
   "metadata": {
    "collapsed": false
   },
   "outputs": [],
   "source": [
    "#CIARD.to_csv('CIARD.csv', sep='\\t',index=False)"
   ]
  },
  {
   "cell_type": "code",
   "execution_count": 65,
   "metadata": {
    "collapsed": false
   },
   "outputs": [],
   "source": [
    "UVUT = pd.read_csv(\"/home/xzhou/Python/Data/UTUV_FINALE0905.csv\",dtype=str,encoding='iso-8859-1')\n",
    "Siret = pd.read_csv(\"/home/xzhou/Python/Data/SIRETISATION_201602.csv\",dtype=str) # SIRETISATION  201602\n",
    "TestCollec = pd.read_csv(\"/home/xzhou/Python/Data/Collective/ENTREPOT4_20160518.csv\",dtype=str)\n",
    "EXC_CLAUSE = pd.read_csv(\"/home/xzhou/Python/Data/IARD/EXC_CLAUSE.csv\",dtype=str)\n",
    "EXC_NUMCNT = pd.read_csv(\"/home/xzhou/Python/Data/IARD/EXC_NMCNT.csv\",dtype=str,encoding='iso-8859-1')\n",
    "EXC_UV = pd.read_csv(\"/home/xzhou/Python/Data/IARD/EXC_UV.csv\",dtype=str)\n",
    "#UVUT_finale = pd.read_csv('/home/xzhou/Python/Data/UTUV_FINALE.csv',dtype=str,sep = ';',encoding='iso-8859-1')"
   ]
  },
  {
   "cell_type": "code",
   "execution_count": null,
   "metadata": {
    "collapsed": false
   },
   "outputs": [],
   "source": []
  },
  {
   "cell_type": "code",
   "execution_count": 66,
   "metadata": {
    "collapsed": false
   },
   "outputs": [],
   "source": [
    "#TestIARD = pd.read_csv(\"/home/xzhou/Python/Test5.csv\",dtype=str,sep='\\t')\n",
    "TestIARD = CIARD[ CIARD['branche'] != 'CHANT +']"
   ]
  },
  {
   "cell_type": "code",
   "execution_count": null,
   "metadata": {
    "collapsed": false
   },
   "outputs": [],
   "source": []
  },
  {
   "cell_type": "code",
   "execution_count": 67,
   "metadata": {
    "collapsed": false
   },
   "outputs": [
    {
     "data": {
      "text/plain": [
       "(646379, 67)"
      ]
     },
     "execution_count": 67,
     "metadata": {},
     "output_type": "execute_result"
    }
   ],
   "source": [
    "TestIARD.shape"
   ]
  },
  {
   "cell_type": "code",
   "execution_count": 68,
   "metadata": {
    "collapsed": false
   },
   "outputs": [
    {
     "data": {
      "text/plain": [
       "Index([u'tranche_eff', u'tranche_eff2', u'branche', u'NUMCNT', u'moisa',\n",
       "       u'NMCLE001', u'NMCLE002', u'NMCLE003', u'DTFAN', u'DTFRS', u'CDREGION',\n",
       "       u'COPHT', u'IDETCONT', u'NMPORT', u'ITSOUSCR', u'NMCLI', u'CDREG001',\n",
       "       u'MOTAN001', u'CDAGT001', u'CDAGT002', u'CDAGT003', u'CDUVENVI',\n",
       "       u'CDUTC001', u'CDUTC002', u'CDUTC003', u'CDUTC004', u'CDUTC005',\n",
       "       u'CDUTC006', u'CDUTC007', u'CDUTC008', u'CDUTC009', u'CDUTC010',\n",
       "       u'CDUTC011', u'CDUTC012', u'CDUTC013', u'CDUTC014', u'CDUTC015',\n",
       "       u'MARCHE', u'DISTRIB', u'CDFAMUV', u'siret_02', u'source', u'pole',\n",
       "       u'siret_01', u'siret_03', u'etat_01', u'etat_02', u'etat_03',\n",
       "       u'siret_final', u'etat_siret_final', u'type_distrib', u'REGION',\n",
       "       u'id_distrib', u'SIREN', u'APET700', u'TEFET', u'efetcent', u'TEFEN',\n",
       "       u'efencent', u'ETATET', u'effectif', u'nb_an', u'nb_rs', u'nb_enc',\n",
       "       u'copht_an', u'copht_rs', u'copht_enc'],\n",
       "      dtype='object')"
      ]
     },
     "execution_count": 68,
     "metadata": {},
     "output_type": "execute_result"
    }
   ],
   "source": [
    "TestIARD.columns"
   ]
  },
  {
   "cell_type": "code",
   "execution_count": 69,
   "metadata": {
    "collapsed": false
   },
   "outputs": [
    {
     "data": {
      "text/plain": [
       "(646379, 67)"
      ]
     },
     "execution_count": 69,
     "metadata": {},
     "output_type": "execute_result"
    }
   ],
   "source": [
    "TestIARD.shape"
   ]
  },
  {
   "cell_type": "code",
   "execution_count": 70,
   "metadata": {
    "collapsed": false
   },
   "outputs": [
    {
     "name": "stdout",
     "output_type": "stream",
     "text": [
      "The number of Contract to be excluded is : 2138\n",
      "The number of Clause to be excluded is : 118\n",
      "The number of Uv to be excluded is : 13\n"
     ]
    }
   ],
   "source": [
    "## A Executer 1 fois\n",
    "\n",
    "EXC_Numcnt = set(EXC_NUMCNT['Numero'])\n",
    "EXC_Clause = set(EXC_CLAUSE['Numero'])\n",
    "EXC_Uv = set(EXC_UV['Numero'])\n",
    "\n",
    "print 'The number of Contract to be excluded is :',len(EXC_Numcnt)\n",
    "print 'The number of Clause to be excluded is :',len(EXC_Clause)\n",
    "print 'The number of Uv to be excluded is :',len(EXC_Uv)"
   ]
  },
  {
   "cell_type": "code",
   "execution_count": 71,
   "metadata": {
    "collapsed": true
   },
   "outputs": [],
   "source": [
    "# # From table of IARDcontracts, we are going to add a new column indicating whether to exclude (1 to exlude, 0 not)\n",
    "# ##A executer uniquement pour verifier.\n",
    "# import time \n",
    "# n = TestIARD.shape[0]\n",
    "\n",
    "# print n\n",
    "# L=[]\n",
    "# a=time.time()\n",
    "\n",
    "# #Check consecutively for each instance, if NUMCNT, NUMCL,UV in the forbidden sets, then the indicator equals to 1\n",
    "# for i in range(n):\n",
    "    \n",
    "#     ind = 0\n",
    "#     if (TestIARD.iloc[i,0] in EXC_Numcnt):# check for NUMCNT\n",
    "#         ind = 1\n",
    "#         L.append(ind)\n",
    "#         continue\n",
    "#     elif (TestIARD.iloc[i,2] in EXC_Clause):# check for three clauses for each contract\n",
    "#         ind = 1\n",
    "#         L.append(ind)\n",
    "#         continue\n",
    "#     elif (TestIARD.iloc[i,3] in EXC_Clause):\n",
    "#         ind = 1\n",
    "#         L.append(ind)\n",
    "#         continue\n",
    "#     elif (TestIARD.iloc[i,4] in EXC_Clause):\n",
    "#         ind = 1\n",
    "#         L.append(ind)\n",
    "#         continue\n",
    "#     elif (TestIARD.iloc[i,19] in EXC_Uv):#check for UV\n",
    "#         ind = 1\n",
    "#         L.append(ind)\n",
    "#         continue\n",
    "#     L.append(ind)\n",
    "#     if (i % 50000==0):\n",
    "#         print i\n",
    "    \n",
    "# TestIARD['Exclu']= L\n",
    "\n",
    "# b = time.time()\n",
    "# print \"time needed :\", (b-a)  # We need about 30s to check 47 689 instances\n",
    "# print \"Number of contract rejected:\",sum(L)"
   ]
  },
  {
   "cell_type": "code",
   "execution_count": 72,
   "metadata": {
    "collapsed": true
   },
   "outputs": [],
   "source": [
    "#A executer une fois seulement\n",
    "#keep in mind with the empty value use.\n",
    "\n",
    "temp= pd.DataFrame({'CDUVENVI':TestIARD['CDUVENVI'],'NUMCNT':TestIARD['NUMCNT'],'NMCLE001':TestIARD['NMCLE001'],'NMCLE002':TestIARD['NMCLE002'],'NMCLE003':TestIARD['NMCLE003']})\n",
    "\n",
    "# nettoyer les champs inutiles, garder uniquement un variable \"Branche\" comme indicateur, si l'échantillon est inclus ou pas dans la liste à exclure. et le renommer\n",
    "# pour simplifier la vie.\n",
    "\n",
    "Join6 = pd.merge(temp ,EXC_NUMCNT , how='left', left_on = 'NUMCNT', right_on='Numero')\n",
    "del Join6['Nom_groupement']\n",
    "del Join6['Numero']\n",
    "Join6.rename(columns={'Branche': '1'}, inplace=True)\n",
    "\n",
    "Join7 = pd.merge(Join6 ,EXC_UV , how='left', left_on = 'CDUVENVI', right_on='Numero')\n",
    "del Join7['Nom_groupement']\n",
    "del Join7['Numero']\n",
    "Join7.rename(columns={'Branche': '2'}, inplace=True)\n",
    "\n",
    "Join8 = pd.merge(Join7 ,EXC_CLAUSE , how='left', left_on = 'NMCLE001', right_on='Numero')\n",
    "del Join8['Nom_groupement']\n",
    "del Join8['Numero']\n",
    "Join8.rename(columns={'Branche': '3'}, inplace=True)\n",
    "\n",
    "Join9 = pd.merge(Join8 ,EXC_CLAUSE , how='left', left_on = 'NMCLE002', right_on='Numero')\n",
    "del Join9['Nom_groupement']\n",
    "del Join9['Numero']\n",
    "Join9.rename(columns={'Branche': '4'}, inplace=True)\n",
    "\n",
    "Join10 = pd.merge(Join9 ,EXC_CLAUSE , how='left', left_on = 'NMCLE003', right_on='Numero')\n",
    "del Join10['Nom_groupement']\n",
    "del Join10['Numero']\n",
    "Join10.rename(columns={'Branche': '5'}, inplace=True)"
   ]
  },
  {
   "cell_type": "code",
   "execution_count": 73,
   "metadata": {
    "collapsed": false
   },
   "outputs": [],
   "source": [
    "# remmetre les échantillons dans l'ordre de départ en fusionnant avec la dataframe initiale\n",
    "aa = pd.merge(temp,Join10 , how='left', on = ['NUMCNT','CDUVENVI'])\n",
    "\n",
    "# compter les indexes à exclure, sauf les derniers\n",
    "\n",
    "Index_numcnt = aa['1'].isnull()\n",
    "Index_uv = aa['2'].isnull()\n",
    "Index_clause1 = aa['3'].isnull()\n",
    "Index_clause2 = aa['4'].isnull()\n",
    "Index_clause3 = aa['5'].isnull()\n",
    "\n",
    "keep = Index_numcnt & Index_uv & Index_clause1 & Index_clause2 & Index_clause3\n",
    "\n",
    "#Si tout va bien, remplir le champs Exclu par ~keep\n",
    "exclu = (~keep).astype(int)\n",
    "TestIARD.loc[:,('Exclu')] =exclu.values"
   ]
  },
  {
   "cell_type": "code",
   "execution_count": 74,
   "metadata": {
    "collapsed": false
   },
   "outputs": [
    {
     "data": {
      "text/plain": [
       "0         0\n",
       "1         0\n",
       "2         0\n",
       "3         0\n",
       "4         0\n",
       "5         0\n",
       "6         0\n",
       "7         0\n",
       "8         0\n",
       "9         0\n",
       "10        0\n",
       "11        0\n",
       "12        0\n",
       "13        0\n",
       "14        0\n",
       "15        0\n",
       "16        0\n",
       "17        0\n",
       "18        0\n",
       "19        0\n",
       "20        0\n",
       "21        0\n",
       "22        0\n",
       "23        0\n",
       "24        0\n",
       "25        0\n",
       "26        1\n",
       "27        0\n",
       "28        0\n",
       "29        0\n",
       "         ..\n",
       "646349    0\n",
       "646350    0\n",
       "646351    0\n",
       "646352    0\n",
       "646353    0\n",
       "646354    0\n",
       "646355    0\n",
       "646356    0\n",
       "646357    0\n",
       "646358    0\n",
       "646359    0\n",
       "646360    0\n",
       "646361    1\n",
       "646362    0\n",
       "646363    0\n",
       "646364    0\n",
       "646365    0\n",
       "646366    0\n",
       "646367    0\n",
       "646368    0\n",
       "646369    0\n",
       "646370    0\n",
       "646371    0\n",
       "646372    1\n",
       "646373    0\n",
       "646374    1\n",
       "646375    0\n",
       "646376    0\n",
       "646377    0\n",
       "646378    0\n",
       "dtype: int64"
      ]
     },
     "execution_count": 74,
     "metadata": {},
     "output_type": "execute_result"
    }
   ],
   "source": [
    "(~keep).astype(int)"
   ]
  },
  {
   "cell_type": "code",
   "execution_count": 75,
   "metadata": {
    "collapsed": false
   },
   "outputs": [
    {
     "data": {
      "text/plain": [
       "0         0\n",
       "1         0\n",
       "2         0\n",
       "3         0\n",
       "4         0\n",
       "5         0\n",
       "6         0\n",
       "7         0\n",
       "8         0\n",
       "9         0\n",
       "10        0\n",
       "11        0\n",
       "12        0\n",
       "13        0\n",
       "14        0\n",
       "15        0\n",
       "16        0\n",
       "17        0\n",
       "18        0\n",
       "19        0\n",
       "20        0\n",
       "21        0\n",
       "23        0\n",
       "24        0\n",
       "25        0\n",
       "26        0\n",
       "28        1\n",
       "29        0\n",
       "30        0\n",
       "31        0\n",
       "         ..\n",
       "675057    0\n",
       "675058    0\n",
       "675059    0\n",
       "675060    0\n",
       "675061    0\n",
       "675062    0\n",
       "675063    0\n",
       "675064    0\n",
       "675065    0\n",
       "675066    0\n",
       "675067    0\n",
       "675068    0\n",
       "675069    1\n",
       "675070    0\n",
       "675071    0\n",
       "675072    0\n",
       "675073    0\n",
       "675074    0\n",
       "675075    0\n",
       "675076    0\n",
       "675077    0\n",
       "675078    0\n",
       "675079    0\n",
       "675080    1\n",
       "675081    0\n",
       "675082    1\n",
       "675083    0\n",
       "675084    0\n",
       "675085    0\n",
       "675086    0\n",
       "Name: Exclu, dtype: int64"
      ]
     },
     "execution_count": 75,
     "metadata": {},
     "output_type": "execute_result"
    }
   ],
   "source": [
    "TestIARD['Exclu']"
   ]
  },
  {
   "cell_type": "code",
   "execution_count": 76,
   "metadata": {
    "collapsed": false
   },
   "outputs": [
    {
     "data": {
      "text/plain": [
       "(646379, 68)"
      ]
     },
     "execution_count": 76,
     "metadata": {},
     "output_type": "execute_result"
    }
   ],
   "source": [
    "TestIARD.shape"
   ]
  },
  {
   "cell_type": "code",
   "execution_count": 77,
   "metadata": {
    "collapsed": true
   },
   "outputs": [],
   "source": [
    "# #vérifier le résultat correspond à celui de la méthode directe\n",
    "# ll = TestIARD['Exclu']==~keep\n",
    "# print \"le numbre de l'incohérence est\", sum(~ll)\n",
    "\n",
    "# # afficher les échantillons dont l'excusion n'est pas uniforme\n",
    "# #TestIARD[~ll]\n",
    "# aa[~ll]\n",
    "# #Si les variable uv ou numcnt sont nuls, ce sera elimine automatiquement, "
   ]
  },
  {
   "cell_type": "code",
   "execution_count": 78,
   "metadata": {
    "collapsed": false
   },
   "outputs": [
    {
     "data": {
      "text/plain": [
       "(646379, 68)"
      ]
     },
     "execution_count": 78,
     "metadata": {},
     "output_type": "execute_result"
    }
   ],
   "source": [
    "TestIARD.shape"
   ]
  },
  {
   "cell_type": "code",
   "execution_count": 79,
   "metadata": {
    "collapsed": false
   },
   "outputs": [
    {
     "name": "stdout",
     "output_type": "stream",
     "text": [
      "(246352, 68)\n"
     ]
    }
   ],
   "source": [
    "#CONSTRUIRE LES EQUIPEMENTS DU MARCHE PP(QUI SONT PEU PROBABLEMENT EXCLU PAR LES REGLES APPLIQUEES POUR LES ENTREPRISE) \n",
    "# a VERIFIER\n",
    "\n",
    "PP = TestIARD[TestIARD['MARCHE'] == 'PP']\n",
    "\n",
    "print PP.shape\n",
    "\n",
    "PP1 = PP[['NUMCNT','Exclu','CDFAMUV','CDUVENVI','CDUTC001','CDUTC002','CDUTC003','CDUTC004','CDUTC005','CDUTC006',\n",
    "             'CDUTC007','CDUTC008','CDUTC009','CDUTC010','CDUTC011','CDUTC012','CDUTC013',\n",
    "             'CDUTC014','CDUTC015']]"
   ]
  },
  {
   "cell_type": "code",
   "execution_count": 80,
   "metadata": {
    "collapsed": true
   },
   "outputs": [],
   "source": [
    "# list of UT associe a cdfamuv =\"22\"\n",
    "l1 = [\"00014\",\"00364\",\"00374\",\"12321\",\"11441\",\"02402\",\"12521\",\"02212\",\"51671\",\"00267\",\"11681\",\"12491\",\"12721\"]\n",
    "l2 = [\"00384\",\"620\",\"50551\",\"08122\",\"01371\"]\n",
    "l3 = [\"02474\",\"02974\",\"00477\",\"00847\",\"00867\",\"00427\",\"57061\"]"
   ]
  },
  {
   "cell_type": "code",
   "execution_count": 81,
   "metadata": {
    "collapsed": false
   },
   "outputs": [
    {
     "data": {
      "text/html": [
       "<div>\n",
       "<table border=\"1\" class=\"dataframe\">\n",
       "  <thead>\n",
       "    <tr style=\"text-align: right;\">\n",
       "      <th></th>\n",
       "      <th>NUMCNT</th>\n",
       "      <th>Exclu</th>\n",
       "      <th>CDFAMUV</th>\n",
       "      <th>CDUVENVI</th>\n",
       "      <th>CDUTC001</th>\n",
       "      <th>CDUTC002</th>\n",
       "      <th>CDUTC003</th>\n",
       "      <th>CDUTC004</th>\n",
       "      <th>CDUTC005</th>\n",
       "      <th>CDUTC006</th>\n",
       "      <th>CDUTC007</th>\n",
       "      <th>CDUTC008</th>\n",
       "      <th>CDUTC009</th>\n",
       "      <th>CDUTC010</th>\n",
       "      <th>CDUTC011</th>\n",
       "      <th>CDUTC012</th>\n",
       "      <th>CDUTC013</th>\n",
       "      <th>CDUTC014</th>\n",
       "      <th>CDUTC015</th>\n",
       "    </tr>\n",
       "  </thead>\n",
       "  <tbody>\n",
       "    <tr>\n",
       "      <th>3</th>\n",
       "      <td>0000002674388204</td>\n",
       "      <td>0</td>\n",
       "      <td>01</td>\n",
       "      <td>03254</td>\n",
       "      <td>00014</td>\n",
       "      <td>00024</td>\n",
       "      <td>00034</td>\n",
       "      <td>00044</td>\n",
       "      <td>00054</td>\n",
       "      <td>00064</td>\n",
       "      <td>00084</td>\n",
       "      <td>05914</td>\n",
       "      <td>02934</td>\n",
       "      <td>03584</td>\n",
       "      <td>05924</td>\n",
       "      <td>NaN</td>\n",
       "      <td>NaN</td>\n",
       "      <td>NaN</td>\n",
       "      <td>NaN</td>\n",
       "    </tr>\n",
       "    <tr>\n",
       "      <th>7</th>\n",
       "      <td>0000006760341804</td>\n",
       "      <td>0</td>\n",
       "      <td>22</td>\n",
       "      <td>02324</td>\n",
       "      <td>00314</td>\n",
       "      <td>00514</td>\n",
       "      <td>00414</td>\n",
       "      <td>00324</td>\n",
       "      <td>00344</td>\n",
       "      <td>00354</td>\n",
       "      <td>02894</td>\n",
       "      <td>00304</td>\n",
       "      <td>NaN</td>\n",
       "      <td>NaN</td>\n",
       "      <td>NaN</td>\n",
       "      <td>NaN</td>\n",
       "      <td>NaN</td>\n",
       "      <td>NaN</td>\n",
       "      <td>NaN</td>\n",
       "    </tr>\n",
       "    <tr>\n",
       "      <th>9</th>\n",
       "      <td>0000002537474404</td>\n",
       "      <td>0</td>\n",
       "      <td>01</td>\n",
       "      <td>03254</td>\n",
       "      <td>00014</td>\n",
       "      <td>00024</td>\n",
       "      <td>00034</td>\n",
       "      <td>00044</td>\n",
       "      <td>00064</td>\n",
       "      <td>00084</td>\n",
       "      <td>05914</td>\n",
       "      <td>02934</td>\n",
       "      <td>03584</td>\n",
       "      <td>05924</td>\n",
       "      <td>NaN</td>\n",
       "      <td>NaN</td>\n",
       "      <td>NaN</td>\n",
       "      <td>NaN</td>\n",
       "      <td>NaN</td>\n",
       "    </tr>\n",
       "    <tr>\n",
       "      <th>10</th>\n",
       "      <td>0000003637228604</td>\n",
       "      <td>0</td>\n",
       "      <td>22</td>\n",
       "      <td>02324</td>\n",
       "      <td>00314</td>\n",
       "      <td>00514</td>\n",
       "      <td>00414</td>\n",
       "      <td>00324</td>\n",
       "      <td>00344</td>\n",
       "      <td>00354</td>\n",
       "      <td>00334</td>\n",
       "      <td>00384</td>\n",
       "      <td>00364</td>\n",
       "      <td>02894</td>\n",
       "      <td>03674</td>\n",
       "      <td>00304</td>\n",
       "      <td>NaN</td>\n",
       "      <td>NaN</td>\n",
       "      <td>NaN</td>\n",
       "    </tr>\n",
       "    <tr>\n",
       "      <th>11</th>\n",
       "      <td>0000004443304904</td>\n",
       "      <td>0</td>\n",
       "      <td>01</td>\n",
       "      <td>03254</td>\n",
       "      <td>00014</td>\n",
       "      <td>00024</td>\n",
       "      <td>00034</td>\n",
       "      <td>00044</td>\n",
       "      <td>00054</td>\n",
       "      <td>00064</td>\n",
       "      <td>00084</td>\n",
       "      <td>05914</td>\n",
       "      <td>02934</td>\n",
       "      <td>03584</td>\n",
       "      <td>05924</td>\n",
       "      <td>NaN</td>\n",
       "      <td>NaN</td>\n",
       "      <td>NaN</td>\n",
       "      <td>NaN</td>\n",
       "    </tr>\n",
       "  </tbody>\n",
       "</table>\n",
       "</div>"
      ],
      "text/plain": [
       "              NUMCNT  Exclu CDFAMUV CDUVENVI CDUTC001 CDUTC002 CDUTC003  \\\n",
       "3   0000002674388204      0      01    03254    00014    00024    00034   \n",
       "7   0000006760341804      0      22    02324    00314    00514    00414   \n",
       "9   0000002537474404      0      01    03254    00014    00024    00034   \n",
       "10  0000003637228604      0      22    02324    00314    00514    00414   \n",
       "11  0000004443304904      0      01    03254    00014    00024    00034   \n",
       "\n",
       "   CDUTC004 CDUTC005 CDUTC006 CDUTC007 CDUTC008 CDUTC009 CDUTC010 CDUTC011  \\\n",
       "3     00044    00054    00064    00084    05914    02934    03584    05924   \n",
       "7     00324    00344    00354    02894    00304      NaN      NaN      NaN   \n",
       "9     00044    00064    00084    05914    02934    03584    05924      NaN   \n",
       "10    00324    00344    00354    00334    00384    00364    02894    03674   \n",
       "11    00044    00054    00064    00084    05914    02934    03584    05924   \n",
       "\n",
       "   CDUTC012 CDUTC013 CDUTC014 CDUTC015  \n",
       "3       NaN      NaN      NaN      NaN  \n",
       "7       NaN      NaN      NaN      NaN  \n",
       "9       NaN      NaN      NaN      NaN  \n",
       "10    00304      NaN      NaN      NaN  \n",
       "11      NaN      NaN      NaN      NaN  "
      ]
     },
     "execution_count": 81,
     "metadata": {},
     "output_type": "execute_result"
    }
   ],
   "source": [
    "PP1.head()"
   ]
  },
  {
   "cell_type": "code",
   "execution_count": 82,
   "metadata": {
    "collapsed": false
   },
   "outputs": [
    {
     "data": {
      "text/plain": [
       "(246352, 19)"
      ]
     },
     "execution_count": 82,
     "metadata": {},
     "output_type": "execute_result"
    }
   ],
   "source": [
    "PP1.shape"
   ]
  },
  {
   "cell_type": "code",
   "execution_count": 83,
   "metadata": {
    "collapsed": false
   },
   "outputs": [
    {
     "name": "stdout",
     "output_type": "stream",
     "text": [
      "246352\n",
      "0\n",
      "10000\n",
      "20000\n",
      "30000\n",
      "40000\n",
      "50000\n",
      "60000\n",
      "70000\n",
      "80000\n",
      "90000\n",
      "100000\n",
      "110000\n",
      "120000\n",
      "130000\n",
      "140000\n",
      "150000\n",
      "160000\n",
      "170000\n",
      "180000\n",
      "190000\n",
      "200000\n",
      "210000\n",
      "220000\n",
      "230000\n",
      "240000\n"
     ]
    }
   ],
   "source": [
    "Temp1 = PP1.values\n",
    "Temp2 = PP1.isnull().values\n",
    "n = PP1.shape[0]\n",
    "print n\n",
    "L=[]\n",
    "for i in range(n):\n",
    "    if Temp1[i,2] == '22':\n",
    "        for j in range(15):\n",
    "            if  Temp1[i,j+4] in l1:\n",
    "                L.append((Temp1[i,0],Temp1[i,1],\"RC\"))\n",
    "            elif Temp1[i,j+4] in l2:\n",
    "                L.append((Temp1[i,0],Temp1[i,1],\"Perte_Exploitation\"))\n",
    "            elif Temp1[i,j+4] in l3:\n",
    "                L.append((Temp1[i,0],Temp1[i,1],\"PJ\"))\n",
    "            elif not(Temp2[i,j+4]):\n",
    "                L.append((Temp1[i,0],Temp1[i,1],\"Incendie_vol_autres_risques\"))\n",
    "    if Temp1[i,2] == '44':\n",
    "         L.append((Temp1[i,0],Temp1[i,1],\"RC\"))\n",
    "        \n",
    "    if Temp1[i,2] == '52':\n",
    "         L.append((Temp1[i,0],Temp1[i,1],\"PJ\"))\n",
    "        \n",
    "    if Temp1[i,2] == '01':\n",
    "         L.append((Temp1[i,0],Temp1[i,1],\"Flotte\"))\n",
    "    \n",
    "    if i % 10000 == 0: print i\n",
    "    \n",
    "    \n",
    "            "
   ]
  },
  {
   "cell_type": "code",
   "execution_count": 84,
   "metadata": {
    "collapsed": false
   },
   "outputs": [
    {
     "name": "stdout",
     "output_type": "stream",
     "text": [
      "[(u'0000002674388204', 0, 'Flotte'), (u'0000006760341804', 0, 'Incendie_vol_autres_risques'), (u'0000006760341804', 0, 'Incendie_vol_autres_risques'), (u'0000006760341804', 0, 'Incendie_vol_autres_risques'), (u'0000006760341804', 0, 'Incendie_vol_autres_risques'), (u'0000006760341804', 0, 'Incendie_vol_autres_risques'), (u'0000006760341804', 0, 'Incendie_vol_autres_risques'), (u'0000006760341804', 0, 'Incendie_vol_autres_risques'), (u'0000006760341804', 0, 'Incendie_vol_autres_risques'), (u'0000002537474404', 0, 'Flotte')]\n"
     ]
    }
   ],
   "source": [
    "print L[:10]"
   ]
  },
  {
   "cell_type": "code",
   "execution_count": 85,
   "metadata": {
    "collapsed": false
   },
   "outputs": [],
   "source": [
    "            \n",
    "ci = [x[0] for x in L]\n",
    "ex = [x[1] for x in L]\n",
    "eq = [x[2] for x in L]\n",
    "\n",
    "PP_equi = pd.DataFrame( {'NUMCNT':ci , 'Exclu': ex,'equipement':eq}).drop_duplicates(subset = ['Exclu','NUMCNT','equipement'])"
   ]
  },
  {
   "cell_type": "code",
   "execution_count": null,
   "metadata": {
    "collapsed": false
   },
   "outputs": [],
   "source": []
  },
  {
   "cell_type": "code",
   "execution_count": 86,
   "metadata": {
    "collapsed": false
   },
   "outputs": [
    {
     "data": {
      "text/html": [
       "<div>\n",
       "<table border=\"1\" class=\"dataframe\">\n",
       "  <thead>\n",
       "    <tr style=\"text-align: right;\">\n",
       "      <th></th>\n",
       "      <th>Exclu</th>\n",
       "      <th>NUMCNT</th>\n",
       "      <th>equipement</th>\n",
       "    </tr>\n",
       "  </thead>\n",
       "  <tbody>\n",
       "    <tr>\n",
       "      <th>0</th>\n",
       "      <td>0</td>\n",
       "      <td>0000002674388204</td>\n",
       "      <td>Flotte</td>\n",
       "    </tr>\n",
       "    <tr>\n",
       "      <th>1</th>\n",
       "      <td>0</td>\n",
       "      <td>0000006760341804</td>\n",
       "      <td>Incendie_vol_autres_risques</td>\n",
       "    </tr>\n",
       "    <tr>\n",
       "      <th>9</th>\n",
       "      <td>0</td>\n",
       "      <td>0000002537474404</td>\n",
       "      <td>Flotte</td>\n",
       "    </tr>\n",
       "    <tr>\n",
       "      <th>10</th>\n",
       "      <td>0</td>\n",
       "      <td>0000003637228604</td>\n",
       "      <td>Incendie_vol_autres_risques</td>\n",
       "    </tr>\n",
       "    <tr>\n",
       "      <th>17</th>\n",
       "      <td>0</td>\n",
       "      <td>0000003637228604</td>\n",
       "      <td>Perte_Exploitation</td>\n",
       "    </tr>\n",
       "  </tbody>\n",
       "</table>\n",
       "</div>"
      ],
      "text/plain": [
       "    Exclu            NUMCNT                   equipement\n",
       "0       0  0000002674388204                       Flotte\n",
       "1       0  0000006760341804  Incendie_vol_autres_risques\n",
       "9       0  0000002537474404                       Flotte\n",
       "10      0  0000003637228604  Incendie_vol_autres_risques\n",
       "17      0  0000003637228604           Perte_Exploitation"
      ]
     },
     "execution_count": 86,
     "metadata": {},
     "output_type": "execute_result"
    }
   ],
   "source": [
    "PP_equi.head()"
   ]
  },
  {
   "cell_type": "code",
   "execution_count": 87,
   "metadata": {
    "collapsed": true
   },
   "outputs": [],
   "source": [
    "PP_equi.to_csv('PP_equi.csv',dtype=str,index=False)"
   ]
  },
  {
   "cell_type": "code",
   "execution_count": 88,
   "metadata": {
    "collapsed": false
   },
   "outputs": [],
   "source": [
    "#set(TestIARD['CDFAMUV'])"
   ]
  },
  {
   "cell_type": "code",
   "execution_count": null,
   "metadata": {
    "collapsed": false
   },
   "outputs": [],
   "source": []
  },
  {
   "cell_type": "code",
   "execution_count": 89,
   "metadata": {
    "collapsed": false
   },
   "outputs": [
    {
     "data": {
      "text/html": [
       "<div>\n",
       "<table border=\"1\" class=\"dataframe\">\n",
       "  <thead>\n",
       "    <tr style=\"text-align: right;\">\n",
       "      <th></th>\n",
       "      <th>nmcli</th>\n",
       "      <th>numcnt</th>\n",
       "      <th>dtfan</th>\n",
       "      <th>dtfrs</th>\n",
       "      <th>branche</th>\n",
       "      <th>pole</th>\n",
       "      <th>siret_final</th>\n",
       "      <th>etat_siret_final</th>\n",
       "      <th>source</th>\n",
       "      <th>anciennete</th>\n",
       "      <th>CODE_GESTIONNAIRE</th>\n",
       "      <th>NO_PORTEFEUILLE</th>\n",
       "    </tr>\n",
       "  </thead>\n",
       "  <tbody>\n",
       "    <tr>\n",
       "      <th>0</th>\n",
       "      <td>0000000000</td>\n",
       "      <td>0037504851143187</td>\n",
       "      <td>NaN</td>\n",
       "      <td>NaN</td>\n",
       "      <td>AUTOE</td>\n",
       "      <td>COURTIER</td>\n",
       "      <td>NaN</td>\n",
       "      <td>NaN</td>\n",
       "      <td>NaN</td>\n",
       "      <td>NaN</td>\n",
       "      <td>0000005298</td>\n",
       "      <td>0204037884</td>\n",
       "    </tr>\n",
       "    <tr>\n",
       "      <th>1</th>\n",
       "      <td>0000000000</td>\n",
       "      <td>0037504850765387</td>\n",
       "      <td>NaN</td>\n",
       "      <td>NaN</td>\n",
       "      <td>AUTOE</td>\n",
       "      <td>COURTIER</td>\n",
       "      <td>NaN</td>\n",
       "      <td>NaN</td>\n",
       "      <td>NaN</td>\n",
       "      <td>NaN</td>\n",
       "      <td>0000005298</td>\n",
       "      <td>0204037884</td>\n",
       "    </tr>\n",
       "    <tr>\n",
       "      <th>2</th>\n",
       "      <td>0000000000</td>\n",
       "      <td>0000660287640100</td>\n",
       "      <td>10/03/1989</td>\n",
       "      <td>NaN</td>\n",
       "      <td>INCONNU</td>\n",
       "      <td>AGENT</td>\n",
       "      <td>NaN</td>\n",
       "      <td>NaN</td>\n",
       "      <td>NaN</td>\n",
       "      <td>NaN</td>\n",
       "      <td>NaN</td>\n",
       "      <td>NaN</td>\n",
       "    </tr>\n",
       "    <tr>\n",
       "      <th>3</th>\n",
       "      <td>0000000000</td>\n",
       "      <td>0000660277230000</td>\n",
       "      <td>03/01/1989</td>\n",
       "      <td>NaN</td>\n",
       "      <td>INCONNU</td>\n",
       "      <td>AGENT</td>\n",
       "      <td>NaN</td>\n",
       "      <td>NaN</td>\n",
       "      <td>NaN</td>\n",
       "      <td>NaN</td>\n",
       "      <td>NaN</td>\n",
       "      <td>NaN</td>\n",
       "    </tr>\n",
       "    <tr>\n",
       "      <th>4</th>\n",
       "      <td>0000000000</td>\n",
       "      <td>0000660290020000</td>\n",
       "      <td>10/03/1989</td>\n",
       "      <td>NaN</td>\n",
       "      <td>INCONNU</td>\n",
       "      <td>AGENT</td>\n",
       "      <td>NaN</td>\n",
       "      <td>NaN</td>\n",
       "      <td>NaN</td>\n",
       "      <td>NaN</td>\n",
       "      <td>NaN</td>\n",
       "      <td>NaN</td>\n",
       "    </tr>\n",
       "  </tbody>\n",
       "</table>\n",
       "</div>"
      ],
      "text/plain": [
       "        nmcli            numcnt       dtfan dtfrs  branche      pole  \\\n",
       "0  0000000000  0037504851143187         NaN   NaN    AUTOE  COURTIER   \n",
       "1  0000000000  0037504850765387         NaN   NaN    AUTOE  COURTIER   \n",
       "2  0000000000  0000660287640100  10/03/1989   NaN  INCONNU     AGENT   \n",
       "3  0000000000  0000660277230000  03/01/1989   NaN  INCONNU     AGENT   \n",
       "4  0000000000  0000660290020000  10/03/1989   NaN  INCONNU     AGENT   \n",
       "\n",
       "  siret_final etat_siret_final source anciennete CODE_GESTIONNAIRE  \\\n",
       "0         NaN              NaN    NaN        NaN        0000005298   \n",
       "1         NaN              NaN    NaN        NaN        0000005298   \n",
       "2         NaN              NaN    NaN        NaN               NaN   \n",
       "3         NaN              NaN    NaN        NaN               NaN   \n",
       "4         NaN              NaN    NaN        NaN               NaN   \n",
       "\n",
       "  NO_PORTEFEUILLE  \n",
       "0      0204037884  \n",
       "1      0204037884  \n",
       "2             NaN  \n",
       "3             NaN  \n",
       "4             NaN  "
      ]
     },
     "execution_count": 89,
     "metadata": {},
     "output_type": "execute_result"
    }
   ],
   "source": [
    "Siret.head()"
   ]
  },
  {
   "cell_type": "code",
   "execution_count": 90,
   "metadata": {
    "collapsed": false
   },
   "outputs": [
    {
     "name": "stdout",
     "output_type": "stream",
     "text": [
      "(400017, 68)\n",
      "400017\n"
     ]
    }
   ],
   "source": [
    "Siret2 = Siret[['numcnt','siret_final','etat_siret_final']]\n",
    "Siret2.columns =['NUMCNT','Siret','etat_siret_final']\n",
    "\n",
    "##Selectionner seulement les contrats de l'entreprise\n",
    "\n",
    "TestIARD = TestIARD[TestIARD['MARCHE'] == 'EN']\n",
    "\n",
    "print TestIARD.shape\n",
    "\n",
    "Temp = TestIARD[['NUMCNT','Exclu','CDUVENVI','CDUTC001','CDUTC002','CDUTC003','CDUTC004','CDUTC005','CDUTC006',\n",
    "             'CDUTC007','CDUTC008','CDUTC009','CDUTC010','CDUTC011','CDUTC012','CDUTC013',\n",
    "             'CDUTC014','CDUTC015']]\n",
    "Temp1 = Temp.values\n",
    "Temp2 = Temp.isnull().values\n",
    "n = Temp.shape[0]\n",
    "print n\n",
    "L=[]\n",
    "for i in range(n):\n",
    "    if Temp2[i,2]:\n",
    "        continue\n",
    "    for j in range(15):\n",
    "        if  ~Temp2[i,j+3]:\n",
    "            L.append((Temp1[i,0],Temp1[i,1],Temp1[i,2],Temp1[i,j+3]))\n",
    "            "
   ]
  },
  {
   "cell_type": "code",
   "execution_count": 91,
   "metadata": {
    "collapsed": false
   },
   "outputs": [
    {
     "data": {
      "text/plain": [
       "2477176"
      ]
     },
     "execution_count": 91,
     "metadata": {},
     "output_type": "execute_result"
    }
   ],
   "source": [
    "len(L)"
   ]
  },
  {
   "cell_type": "code",
   "execution_count": 92,
   "metadata": {
    "collapsed": false
   },
   "outputs": [
    {
     "name": "stdout",
     "output_type": "stream",
     "text": [
      "(2477176, 3)\n",
      "(304662, 3)\n"
     ]
    }
   ],
   "source": [
    "            \n",
    "            \n",
    "ci = [x[0] for x in L]\n",
    "ex = [x[1] for x in L]\n",
    "uv = [x[2] for x in L]\n",
    "ut = [x[3] for x in L]\n",
    "\n",
    "ConIDuvut = pd.DataFrame( {'NUMCNT':ci , 'Exclu': ex,'UV' : uv, 'num_ut' : ut })\n",
    "\n",
    "Temp3 = pd.merge(ConIDuvut, UVUT, how='left', on=['UV','num_ut'])\n",
    "Temp3 = Temp3[['Exclu','NUMCNT','equipement']]\n",
    "\n",
    "print Temp3.shape\n",
    "print PP_equi.shape\n",
    "\n",
    "# concatenate EN and PP\n",
    "t_equi = pd.concat([Temp3,PP_equi],ignore_index=True)"
   ]
  },
  {
   "cell_type": "code",
   "execution_count": 93,
   "metadata": {
    "collapsed": false
   },
   "outputs": [],
   "source": [
    "# la siretisation est faite au moment de l'extraction et on ne garde que de siret Actif\n",
    "SiretIARD = CIARD[['NUMCNT','siret_final']]\n",
    "SiretIARD.columns=['NUMCNT','Siret']\n",
    "\n",
    "Temp4 = pd.merge(t_equi,SiretIARD, how='left',on='NUMCNT')\n",
    "\n",
    "Temp5 = Temp4[['Siret','Exclu','equipement']]"
   ]
  },
  {
   "cell_type": "code",
   "execution_count": 94,
   "metadata": {
    "collapsed": false
   },
   "outputs": [
    {
     "data": {
      "text/plain": [
       "Index([u'tranche_eff', u'tranche_eff2', u'branche', u'NUMCNT', u'moisa',\n",
       "       u'NMCLE001', u'NMCLE002', u'NMCLE003', u'DTFAN', u'DTFRS', u'CDREGION',\n",
       "       u'COPHT', u'IDETCONT', u'NMPORT', u'ITSOUSCR', u'NMCLI', u'CDREG001',\n",
       "       u'MOTAN001', u'CDAGT001', u'CDAGT002', u'CDAGT003', u'CDUVENVI',\n",
       "       u'CDUTC001', u'CDUTC002', u'CDUTC003', u'CDUTC004', u'CDUTC005',\n",
       "       u'CDUTC006', u'CDUTC007', u'CDUTC008', u'CDUTC009', u'CDUTC010',\n",
       "       u'CDUTC011', u'CDUTC012', u'CDUTC013', u'CDUTC014', u'CDUTC015',\n",
       "       u'MARCHE', u'DISTRIB', u'CDFAMUV', u'siret_02', u'source', u'pole',\n",
       "       u'siret_01', u'siret_03', u'etat_01', u'etat_02', u'etat_03',\n",
       "       u'siret_final', u'etat_siret_final', u'type_distrib', u'REGION',\n",
       "       u'id_distrib', u'SIREN', u'APET700', u'TEFET', u'efetcent', u'TEFEN',\n",
       "       u'efencent', u'ETATET', u'effectif', u'nb_an', u'nb_rs', u'nb_enc',\n",
       "       u'copht_an', u'copht_rs', u'copht_enc'],\n",
       "      dtype='object')"
      ]
     },
     "execution_count": 94,
     "metadata": {},
     "output_type": "execute_result"
    }
   ],
   "source": [
    "CIARD.columns"
   ]
  },
  {
   "cell_type": "code",
   "execution_count": null,
   "metadata": {
    "collapsed": false
   },
   "outputs": [],
   "source": []
  },
  {
   "cell_type": "code",
   "execution_count": 95,
   "metadata": {
    "collapsed": false
   },
   "outputs": [],
   "source": [
    "Temp6 = Temp5[~(Temp5['Siret'].isnull()|Temp5['equipement'].isnull())]\n",
    "#Temp6 = Temp6[Temp6['etat_siret_final']=='A']\n",
    "##Attention!!! le filtage sur Etat siret doit etre fait avec l'INSEE, au lieu de SIRETISATION\n",
    "##Code to calculate equipement\n",
    "\n",
    "Temp7 = Temp6[['Siret','equipement']].drop_duplicates(subset=['Siret','equipement'])#, keep='first')\n",
    "ss = Temp7['equipement'].apply(lambda x : str(x) +';')\n",
    "Temp7.loc[:,'equipement'] = ss.values\n",
    "\n",
    "\n",
    "groupedIARD = Temp7.groupby('Siret').sum()\n",
    "\n",
    "\n",
    "groupedIARD.reset_index(level=0, inplace=True)\n",
    "\n",
    "\n",
    "\n",
    "## Code to calculate Exclu indicator\n",
    "Exclu_ind =  Temp6[['Siret','Exclu']].drop_duplicates(subset=['Siret','Exclu'])#, keep='first')\n",
    "grouped_exc = Exclu_ind.groupby('Siret').sum()\n",
    "\n",
    "\n",
    "## Combine equipement and ind \n",
    "if groupedIARD.shape[0] != grouped_exc.shape[0]: print \"Alert\"\n",
    "groupedIARD['Exclu'] = grouped_exc['Exclu'].values\n",
    "\n",
    "\n",
    "##So far, we have a table with (siret,equipement,exclu) of Collective Contract : groupedIARD"
   ]
  },
  {
   "cell_type": "code",
   "execution_count": null,
   "metadata": {
    "collapsed": true
   },
   "outputs": [],
   "source": []
  },
  {
   "cell_type": "code",
   "execution_count": 96,
   "metadata": {
    "collapsed": true
   },
   "outputs": [],
   "source": [
    "##CONTRACTS COLLECTIVE\n",
    "#Create a copy of SERITISATION\n",
    "Siret3 = Siret[['numcnt','siret_final','etat_siret_final']]\n",
    "Siret3.columns =['NUMCNT','Siret','etat_siret_final']\n",
    "#reject instances with out Siret\n",
    "Siret_13 = Siret3[~(Siret3['Siret'].isnull())].reset_index(drop=True)\n",
    "\n",
    "Siret_13.loc[:,'NUMCNT']=Siret_13['NUMCNT'].apply(lambda x: x[1:14])\n",
    "\n",
    "TempCollec1 = TestCollec[['IDCORP','prevoyance','sante']].values\n",
    "\n",
    "L=[]\n",
    "for i in range(TempCollec1.shape[0]):\n",
    "    if TempCollec1[i,1]=='1':\n",
    "        L.append((TempCollec1[i,0],'Prevoyance'))\n",
    "    if TempCollec1[i,2]=='1':\n",
    "        L.append((TempCollec1[i,0],'Sante'))\n",
    "        \n",
    "numcnt = [x[0] for x in L]\n",
    "equipement = [x[1] for x in L]\n",
    "\n",
    "TempCollec2 = pd.DataFrame( {'NUMCNT':numcnt, 'equipement' : equipement })\n",
    "\n",
    "TempCollec3 = pd.merge(TempCollec2,Siret_13, how='left',on='NUMCNT')\n",
    "TempCollec3 = TempCollec3[TempCollec3['etat_siret_final']=='A']"
   ]
  },
  {
   "cell_type": "code",
   "execution_count": 97,
   "metadata": {
    "collapsed": false
   },
   "outputs": [
    {
     "data": {
      "text/html": [
       "<div>\n",
       "<table border=\"1\" class=\"dataframe\">\n",
       "  <thead>\n",
       "    <tr style=\"text-align: right;\">\n",
       "      <th></th>\n",
       "      <th>NUMCNT</th>\n",
       "      <th>equipement</th>\n",
       "      <th>Siret</th>\n",
       "      <th>etat_siret_final</th>\n",
       "    </tr>\n",
       "  </thead>\n",
       "  <tbody>\n",
       "  </tbody>\n",
       "</table>\n",
       "</div>"
      ],
      "text/plain": [
       "Empty DataFrame\n",
       "Columns: [NUMCNT, equipement, Siret, etat_siret_final]\n",
       "Index: []"
      ]
     },
     "execution_count": 97,
     "metadata": {},
     "output_type": "execute_result"
    }
   ],
   "source": [
    "TempCollec3[TempCollec3['Siret'] == '01555166600017']"
   ]
  },
  {
   "cell_type": "code",
   "execution_count": 98,
   "metadata": {
    "collapsed": false
   },
   "outputs": [],
   "source": [
    "#eliminate instances without Siret\n",
    "TempCollec4 = TempCollec3[~TempCollec3['Siret'].isnull()]\n",
    "\n",
    "TempCollec5 = TempCollec4[['Siret','equipement']].drop_duplicates(subset=['Siret','equipement'])\n",
    "\n",
    "ss = TempCollec5['equipement'].apply(lambda x : str(x) +';')\n",
    "TempCollec5.loc[:,'equipement'] = ss.values \n",
    "\n",
    "groupedCollec = TempCollec5.groupby('Siret').sum()\n",
    "groupedCollec.reset_index(level=0, inplace=True)\n",
    "\n",
    "##adding null Exclu indicator for Collective Contracts\n",
    "groupedCollec['Exclu'] = 0\n",
    "\n",
    "## Here we have a table with (siret,equipement,exclu) of Collective Contract :groupedCollec"
   ]
  },
  {
   "cell_type": "code",
   "execution_count": 99,
   "metadata": {
    "collapsed": false
   },
   "outputs": [
    {
     "data": {
      "text/plain": [
       "Siret         0\n",
       "equipement    0\n",
       "Exclu         0\n",
       "dtype: int64"
      ]
     },
     "execution_count": 99,
     "metadata": {},
     "output_type": "execute_result"
    }
   ],
   "source": [
    "np.sum(groupedCollec.isnull())"
   ]
  },
  {
   "cell_type": "code",
   "execution_count": 100,
   "metadata": {
    "collapsed": false
   },
   "outputs": [],
   "source": [
    "final1 = pd.concat([groupedIARD,groupedCollec],ignore_index=True)\n",
    "#Even it seems unlikely to have duplication of equipement, but we are going to repeat the previews algo\n",
    "# It means to combine equipement and Exclu seperately by grouping Siret\n",
    "\n",
    "final2 = final1[['Siret','equipement']].drop_duplicates(subset=['Siret','equipement'])#, keep='first')\n",
    "grouped_equi = final2.groupby('Siret').sum()\n",
    "grouped_equi.reset_index(level=0, inplace=True)"
   ]
  },
  {
   "cell_type": "code",
   "execution_count": 101,
   "metadata": {
    "collapsed": false
   },
   "outputs": [
    {
     "data": {
      "text/html": [
       "<div>\n",
       "<table border=\"1\" class=\"dataframe\">\n",
       "  <thead>\n",
       "    <tr style=\"text-align: right;\">\n",
       "      <th></th>\n",
       "      <th>Siret</th>\n",
       "      <th>equipement</th>\n",
       "    </tr>\n",
       "  </thead>\n",
       "  <tbody>\n",
       "    <tr>\n",
       "      <th>0</th>\n",
       "      <td>00552017600016</td>\n",
       "      <td>Prevoyance;</td>\n",
       "    </tr>\n",
       "    <tr>\n",
       "      <th>1</th>\n",
       "      <td>00552024200016</td>\n",
       "      <td>Incendie_vol_autres_risques;Bris_Machine;Perte...</td>\n",
       "    </tr>\n",
       "    <tr>\n",
       "      <th>2</th>\n",
       "      <td>00558043600011</td>\n",
       "      <td>RCdirigeant;</td>\n",
       "    </tr>\n",
       "    <tr>\n",
       "      <th>3</th>\n",
       "      <td>00562003400016</td>\n",
       "      <td>Flotte;PJ;</td>\n",
       "    </tr>\n",
       "    <tr>\n",
       "      <th>4</th>\n",
       "      <td>00562019000040</td>\n",
       "      <td>Incendie_vol_autres_risques;RC;Flotte;</td>\n",
       "    </tr>\n",
       "  </tbody>\n",
       "</table>\n",
       "</div>"
      ],
      "text/plain": [
       "            Siret                                         equipement\n",
       "0  00552017600016                                        Prevoyance;\n",
       "1  00552024200016  Incendie_vol_autres_risques;Bris_Machine;Perte...\n",
       "2  00558043600011                                       RCdirigeant;\n",
       "3  00562003400016                                         Flotte;PJ;\n",
       "4  00562019000040             Incendie_vol_autres_risques;RC;Flotte;"
      ]
     },
     "execution_count": 101,
     "metadata": {},
     "output_type": "execute_result"
    }
   ],
   "source": [
    "grouped_equi.head()"
   ]
  },
  {
   "cell_type": "code",
   "execution_count": 102,
   "metadata": {
    "collapsed": false
   },
   "outputs": [
    {
     "data": {
      "text/html": [
       "<div>\n",
       "<table border=\"1\" class=\"dataframe\">\n",
       "  <thead>\n",
       "    <tr style=\"text-align: right;\">\n",
       "      <th></th>\n",
       "      <th>Siret</th>\n",
       "      <th>equipement</th>\n",
       "    </tr>\n",
       "  </thead>\n",
       "  <tbody>\n",
       "    <tr>\n",
       "      <th>0</th>\n",
       "      <td>00552017600016</td>\n",
       "      <td>Prevoyance;</td>\n",
       "    </tr>\n",
       "    <tr>\n",
       "      <th>1</th>\n",
       "      <td>00552024200016</td>\n",
       "      <td>Incendie_vol_autres_risques;Bris_Machine;Perte...</td>\n",
       "    </tr>\n",
       "    <tr>\n",
       "      <th>2</th>\n",
       "      <td>00558043600011</td>\n",
       "      <td>RCdirigeant;</td>\n",
       "    </tr>\n",
       "    <tr>\n",
       "      <th>3</th>\n",
       "      <td>00562003400016</td>\n",
       "      <td>Flotte;PJ;</td>\n",
       "    </tr>\n",
       "    <tr>\n",
       "      <th>4</th>\n",
       "      <td>00562019000040</td>\n",
       "      <td>Incendie_vol_autres_risques;RC;Flotte;</td>\n",
       "    </tr>\n",
       "  </tbody>\n",
       "</table>\n",
       "</div>"
      ],
      "text/plain": [
       "            Siret                                         equipement\n",
       "0  00552017600016                                        Prevoyance;\n",
       "1  00552024200016  Incendie_vol_autres_risques;Bris_Machine;Perte...\n",
       "2  00558043600011                                       RCdirigeant;\n",
       "3  00562003400016                                         Flotte;PJ;\n",
       "4  00562019000040             Incendie_vol_autres_risques;RC;Flotte;"
      ]
     },
     "execution_count": 102,
     "metadata": {},
     "output_type": "execute_result"
    }
   ],
   "source": [
    "grouped_equi.head()"
   ]
  },
  {
   "cell_type": "code",
   "execution_count": 103,
   "metadata": {
    "collapsed": false
   },
   "outputs": [],
   "source": [
    "final3 =  final1[['Siret','Exclu']].drop_duplicates(subset=['Siret','Exclu'])#, keep='first')\n",
    "grouped_exc = final3.groupby('Siret').sum()\n",
    "\n",
    "\n",
    "if grouped_exc.shape[0] != grouped_equi.shape[0]: print \"Attention\"\n",
    "grouped_equi['Exclu'] = grouped_exc['Exclu'].values\n",
    "\n",
    "\n",
    "###transform into sparse matrix\n",
    "\n",
    "ind = grouped_equi['equipement'].str.get_dummies(sep=';')#.add_prefix('equip_')\n",
    "\n",
    "Final=  pd.concat([grouped_equi[['Siret','Exclu']], ind], axis=1)"
   ]
  },
  {
   "cell_type": "code",
   "execution_count": 104,
   "metadata": {
    "collapsed": false
   },
   "outputs": [
    {
     "data": {
      "text/html": [
       "<div>\n",
       "<table border=\"1\" class=\"dataframe\">\n",
       "  <thead>\n",
       "    <tr style=\"text-align: right;\">\n",
       "      <th></th>\n",
       "      <th>Siret</th>\n",
       "      <th>Exclu</th>\n",
       "      <th>Bris_Machine</th>\n",
       "      <th>Caution_Garanties_Financieres</th>\n",
       "      <th>Chantier</th>\n",
       "      <th>Cyber</th>\n",
       "      <th>Flotte</th>\n",
       "      <th>Incendie_vol_autres_risques</th>\n",
       "      <th>Location_materiel</th>\n",
       "      <th>Marchandises_Transportees_Propre</th>\n",
       "      <th>PJ</th>\n",
       "      <th>Perte_Exploitation</th>\n",
       "      <th>Perte_emploi</th>\n",
       "      <th>Prevoyance</th>\n",
       "      <th>RC</th>\n",
       "      <th>RCdirigeant</th>\n",
       "      <th>Responsabilite_environnement</th>\n",
       "      <th>Sante</th>\n",
       "    </tr>\n",
       "  </thead>\n",
       "  <tbody>\n",
       "    <tr>\n",
       "      <th>0</th>\n",
       "      <td>00552017600016</td>\n",
       "      <td>0</td>\n",
       "      <td>0</td>\n",
       "      <td>0</td>\n",
       "      <td>0</td>\n",
       "      <td>0</td>\n",
       "      <td>0</td>\n",
       "      <td>0</td>\n",
       "      <td>0</td>\n",
       "      <td>0</td>\n",
       "      <td>0</td>\n",
       "      <td>0</td>\n",
       "      <td>0</td>\n",
       "      <td>1</td>\n",
       "      <td>0</td>\n",
       "      <td>0</td>\n",
       "      <td>0</td>\n",
       "      <td>0</td>\n",
       "    </tr>\n",
       "    <tr>\n",
       "      <th>1</th>\n",
       "      <td>00552024200016</td>\n",
       "      <td>0</td>\n",
       "      <td>1</td>\n",
       "      <td>0</td>\n",
       "      <td>0</td>\n",
       "      <td>0</td>\n",
       "      <td>0</td>\n",
       "      <td>1</td>\n",
       "      <td>0</td>\n",
       "      <td>0</td>\n",
       "      <td>0</td>\n",
       "      <td>1</td>\n",
       "      <td>0</td>\n",
       "      <td>0</td>\n",
       "      <td>0</td>\n",
       "      <td>0</td>\n",
       "      <td>0</td>\n",
       "      <td>0</td>\n",
       "    </tr>\n",
       "    <tr>\n",
       "      <th>2</th>\n",
       "      <td>00558043600011</td>\n",
       "      <td>0</td>\n",
       "      <td>0</td>\n",
       "      <td>0</td>\n",
       "      <td>0</td>\n",
       "      <td>0</td>\n",
       "      <td>0</td>\n",
       "      <td>0</td>\n",
       "      <td>0</td>\n",
       "      <td>0</td>\n",
       "      <td>0</td>\n",
       "      <td>0</td>\n",
       "      <td>0</td>\n",
       "      <td>0</td>\n",
       "      <td>0</td>\n",
       "      <td>1</td>\n",
       "      <td>0</td>\n",
       "      <td>0</td>\n",
       "    </tr>\n",
       "    <tr>\n",
       "      <th>3</th>\n",
       "      <td>00562003400016</td>\n",
       "      <td>0</td>\n",
       "      <td>0</td>\n",
       "      <td>0</td>\n",
       "      <td>0</td>\n",
       "      <td>0</td>\n",
       "      <td>1</td>\n",
       "      <td>0</td>\n",
       "      <td>0</td>\n",
       "      <td>0</td>\n",
       "      <td>1</td>\n",
       "      <td>0</td>\n",
       "      <td>0</td>\n",
       "      <td>0</td>\n",
       "      <td>0</td>\n",
       "      <td>0</td>\n",
       "      <td>0</td>\n",
       "      <td>0</td>\n",
       "    </tr>\n",
       "    <tr>\n",
       "      <th>4</th>\n",
       "      <td>00562019000040</td>\n",
       "      <td>0</td>\n",
       "      <td>0</td>\n",
       "      <td>0</td>\n",
       "      <td>0</td>\n",
       "      <td>0</td>\n",
       "      <td>1</td>\n",
       "      <td>1</td>\n",
       "      <td>0</td>\n",
       "      <td>0</td>\n",
       "      <td>0</td>\n",
       "      <td>0</td>\n",
       "      <td>0</td>\n",
       "      <td>0</td>\n",
       "      <td>1</td>\n",
       "      <td>0</td>\n",
       "      <td>0</td>\n",
       "      <td>0</td>\n",
       "    </tr>\n",
       "  </tbody>\n",
       "</table>\n",
       "</div>"
      ],
      "text/plain": [
       "            Siret  Exclu  Bris_Machine  Caution_Garanties_Financieres  \\\n",
       "0  00552017600016      0             0                              0   \n",
       "1  00552024200016      0             1                              0   \n",
       "2  00558043600011      0             0                              0   \n",
       "3  00562003400016      0             0                              0   \n",
       "4  00562019000040      0             0                              0   \n",
       "\n",
       "   Chantier  Cyber  Flotte  Incendie_vol_autres_risques  Location_materiel  \\\n",
       "0         0      0       0                            0                  0   \n",
       "1         0      0       0                            1                  0   \n",
       "2         0      0       0                            0                  0   \n",
       "3         0      0       1                            0                  0   \n",
       "4         0      0       1                            1                  0   \n",
       "\n",
       "   Marchandises_Transportees_Propre  PJ  Perte_Exploitation  Perte_emploi  \\\n",
       "0                                 0   0                   0             0   \n",
       "1                                 0   0                   1             0   \n",
       "2                                 0   0                   0             0   \n",
       "3                                 0   1                   0             0   \n",
       "4                                 0   0                   0             0   \n",
       "\n",
       "   Prevoyance  RC  RCdirigeant  Responsabilite_environnement  Sante  \n",
       "0           1   0            0                             0      0  \n",
       "1           0   0            0                             0      0  \n",
       "2           0   0            1                             0      0  \n",
       "3           0   0            0                             0      0  \n",
       "4           0   1            0                             0      0  "
      ]
     },
     "execution_count": 104,
     "metadata": {},
     "output_type": "execute_result"
    }
   ],
   "source": [
    "Final.head()"
   ]
  },
  {
   "cell_type": "code",
   "execution_count": 105,
   "metadata": {
    "collapsed": false
   },
   "outputs": [
    {
     "data": {
      "text/plain": [
       "(267625, 18)"
      ]
     },
     "execution_count": 105,
     "metadata": {},
     "output_type": "execute_result"
    }
   ],
   "source": [
    "Final.shape"
   ]
  },
  {
   "cell_type": "code",
   "execution_count": 106,
   "metadata": {
    "collapsed": false
   },
   "outputs": [],
   "source": [
    "Final.to_csv('equipement_exclu_total_2015.csv', sep='\\t', encoding='utf-8',index=False)\n"
   ]
  },
  {
   "cell_type": "markdown",
   "metadata": {},
   "source": [
    "## Partie pour la comparaison "
   ]
  }
 ],
 "metadata": {
  "kernelspec": {
   "display_name": "Python 2",
   "language": "python",
   "name": "python2"
  },
  "language_info": {
   "codemirror_mode": {
    "name": "ipython",
    "version": 2
   },
   "file_extension": ".py",
   "mimetype": "text/x-python",
   "name": "python",
   "nbconvert_exporter": "python",
   "pygments_lexer": "ipython2",
   "version": "2.7.11"
  }
 },
 "nbformat": 4,
 "nbformat_minor": 0
}
